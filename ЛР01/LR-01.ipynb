{
 "cells": [
  {
   "cell_type": "code",
   "execution_count": 1,
   "metadata": {},
   "outputs": [],
   "source": [
    "# функция шифрования по алгоритму цезаря\n",
    "def tsesar():\n",
    "    # для работы необходим алфавит, его мы и объявили\n",
    "    # алфавит можно расширить и до русских букв\n",
    "    letters = 'ABCDEFGHIJKLMNOPQRSTUVWXYZABCDEFGHIJKLMNOPQRSTUVWXYZ'\n",
    "    # это шаг в шифровке. ЕГо можно и даже нужно менять. Типо на сколько шагов сделать ход по алфавиту.\n",
    "    step = 5\n",
    "    # строка для ввода текста. Вводить надо исключительно те символы что есть в алвафите, который мы сверху написали,\n",
    "    # иначе будут ошибки.\n",
    "    text = input(\"Цезарь - шифрование :)\")\n",
    "    # переменная для записи результата\n",
    "    result = ''\n",
    "    # сам процесс шифрования начинается уже тут\n",
    "    for i in text:\n",
    "        ind = letters.find(i)    # Вычисляем места символов в списке\n",
    "        newind = ind + step    # Сдвигаем символы на указанный в переменной step шаг\n",
    "        if i in letters:\n",
    "            result += letters[newind]  # Задаем значения в итог\n",
    "        else:\n",
    "            result += i\n",
    "    print(result)"
   ]
  },
  {
   "cell_type": "code",
   "execution_count": 2,
   "metadata": {},
   "outputs": [],
   "source": [
    "# процесс дешифровки уже должен быть ясен\n",
    "# вместо добавления шага, надо, наоборот же, вычитать, чтоб из зашифр сообщения получить открытый текст\n",
    "# по сути код такой же, лишь маленькое отличие: вместо + -\n",
    "def tsesar_deshifr():\n",
    "    letters = 'ABCDEFGHIJKLMNOPQRSTUVWXYZABCDEFGHIJKLMNOPQRSTUVWXYZ'\n",
    "    smeshenie = 5\n",
    "    text = input(\"Цезарь - дешифровка\")\n",
    "    result = ''\n",
    "\n",
    "    for i in text:\n",
    "        ind = letters.find(i)\n",
    "        newind = ind - smeshenie\n",
    "        if i in letters:\n",
    "            result += letters[newind]\n",
    "        else:\n",
    "            result += i\n",
    "    print(result)"
   ]
  },
  {
   "cell_type": "code",
   "execution_count": 3,
   "metadata": {},
   "outputs": [],
   "source": [
    "# шифр атбаша заключается тупо в том, что меняются буквы из обычного алфавита на буквы из алфавита-наоборот\n",
    "#вместо А идет Z и тп\n",
    "def atbash():\n",
    "    # задаем алфавит из английских букв больших(пОЧЕМУ БОЛЬШИХ?  Мы просто указали такой диапазон в ASCII. Вы можете\n",
    "    # алфавит увеличить\n",
    "    letters = [chr(x) for x in range(65, 91)]\n",
    "    # алфавит-наоборот\n",
    "    letters_r = [x for x in letters]\n",
    "    letters_r.reverse()\n",
    "\n",
    "    text = input(\"Атбаш - шифрование\")\n",
    "    result = \"\"\n",
    "    # тут для перебираются буквы из исходного текста\n",
    "    for i in text:\n",
    "        # перебираются индексы и значения из letters\n",
    "        for j,l in enumerate(letters):\n",
    "            if i == l: # если буквы i и l равны, то\n",
    "                result += letters_r[j] # ставим в результат букву из реверсированного списка с индексом j\n",
    "    print(result)"
   ]
  },
  {
   "cell_type": "code",
   "execution_count": 4,
   "metadata": {},
   "outputs": [],
   "source": [
    "# функция дешифровки практически такая же\n",
    "# тут просто местами мы поменяли списки чтоб наоборот дешифровать сообщения\n",
    "def atbash_desh():\n",
    "    letters = [chr(x) for x in range(65, 91)]\n",
    "    letters_r = [x for x in letters]\n",
    "    letters_r.reverse()\n",
    "\n",
    "    text = input(\"Атбаш - дешивровка\")\n",
    "    result = \"\"\n",
    "    for i in text:\n",
    "        for j, l in enumerate(letters_r):\n",
    "            if i == l:\n",
    "                result += letters[j]\n",
    "    print(result)"
   ]
  },
  {
   "cell_type": "code",
   "execution_count": 5,
   "metadata": {},
   "outputs": [],
   "source": [
    "# функция мейн: тут запускаем поочередно каждую функцию\n",
    "def main():\n",
    "    tsesar()\n",
    "    tsesar_deshifr()\n",
    "    atbash()\n",
    "    atbash_desh()\n"
   ]
  },
  {
   "cell_type": "code",
   "execution_count": 6,
   "metadata": {},
   "outputs": [
    {
     "name": "stdout",
     "output_type": "stream",
     "text": [
      "Цезарь - шифрование :)HELLO\n",
      "MJQQT\n",
      "Цезарь - дешифровкаMJQQT\n",
      "HELLO\n",
      "Атбаш - шифрованиеHELLO\n",
      "SVOOL\n",
      "Атбаш - дешивровкаSVOOL\n",
      "HELLO\n"
     ]
    }
   ],
   "source": [
    "if __name__ == \"__main__\":\n",
    "    main()"
   ]
  },
  {
   "cell_type": "code",
   "execution_count": null,
   "metadata": {},
   "outputs": [],
   "source": []
  }
 ],
 "metadata": {
  "kernelspec": {
   "display_name": "Python 3",
   "language": "python",
   "name": "python3"
  },
  "language_info": {
   "codemirror_mode": {
    "name": "ipython",
    "version": 3
   },
   "file_extension": ".py",
   "mimetype": "text/x-python",
   "name": "python",
   "nbconvert_exporter": "python",
   "pygments_lexer": "ipython3",
   "version": "3.7.1"
  }
 },
 "nbformat": 4,
 "nbformat_minor": 4
}
